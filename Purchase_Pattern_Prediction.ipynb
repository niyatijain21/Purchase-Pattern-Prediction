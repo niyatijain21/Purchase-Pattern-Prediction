{
  "nbformat": 4,
  "nbformat_minor": 0,
  "metadata": {
    "colab": {
      "provenance": []
    },
    "kernelspec": {
      "name": "python3",
      "display_name": "Python 3"
    },
    "language_info": {
      "name": "python"
    }
  },
  "cells": [
    {
      "cell_type": "code",
      "source": [
        "from pyspark.ml.feature import StringIndexer, VectorAssembler\n",
        "from pyspark.ml.recommendation import ALS\n",
        "from pyspark.sql.functions import desc, concat_ws\n",
        "\n",
        "# Load the training data\n",
        "training_data = spark.read.csv(\"Training data.csv\", header=True, inferSchema=True)\n",
        "\n",
        "# Load the test data\n",
        "testing_data = spark.read.csv(\"Test data.csv\", header=True, inferSchema=True)\n",
        "\n",
        "# Create a unique ID for each user and product\n",
        "user_indexer = StringIndexer(inputCol=\"user_id\", outputCol=\"user_id_index\").fit(training_data.union(testing_data))\n",
        "product_indexer = StringIndexer(inputCol=\"Product_bought\", outputCol=\"product_id_index\").fit(training_data.union(testing_data))\n",
        "\n",
        "# Convert the training data to a format that can be used for training\n",
        "training_data = user_indexer.transform(training_data)\n",
        "training_data = product_indexer.transform(training_data)\n",
        "training_data = training_data.select(\"user_id_index\", \"product_id_index\", \"Order_value\")\n",
        "\n",
        "# Convert the test data to a format that can be used for testing\n",
        "testing_data = user_indexer.transform(testing_data)\n",
        "testing_data = product_indexer.transform(testing_data)\n",
        "testing_data = testing_data.select(\"user_id_index\", \"product_id_index\", \"Order_value\")\n",
        "\n",
        "# Train an ALS model to predict the order value\n",
        "als = ALS(maxIter=5, regParam=0.01, userCol=\"user_id_index\", itemCol=\"product_id_index\", ratingCol=\"Order_value\", coldStartStrategy=\"drop\")\n",
        "model = als.fit(training_data)\n",
        "\n",
        "# Use the model to make recommendations for all users in the test data\n",
        "user_recs = model.recommendForAllUsers(3)\n",
        "user_recs = user_recs.select(\"user_id_index\", \"recommendations.product_id_index\")\n",
        "\n",
        "# Join the recommendation data with the product data to get the product categories\n",
        "product_data = product_indexer.transform(training_data.select(\"product_id_index\", \"Product_bought\"))\n",
        "user_recs = user_recs.join(product_data, user_recs.product_id_index[0] == product_data.product_id_index, \"left_outer\")\n",
        "user_recs = user_recs.select(\"user_id_index\", \"recommendations.Product_bought\")\n",
        "\n",
        "# Group the recommendations by user and concatenate them into a single column\n",
        "user_recs = user_recs.groupBy(\"user_id_index\").agg(concat_ws(\",\", \"Product_bought\").alias(\"recommendations\"))\n",
        "\n",
        "# Convert user_id_index back to user_id\n",
        "user_recs = user_recs.join(user_indexer, user_recs.user_id_index == user_indexer.user_id_index, \"left_outer\")\n",
        "user_recs = user_recs.select(\"user_id\", \"recommendations\")\n",
        "\n",
        "# Write the output to a CSV file\n",
        "user_recs.write.mode(\"overwrite\").csv(\"path/to/final.csv\")\n"
      ],
      "metadata": {
        "id": "0RzPGcTEzdwc"
      },
      "execution_count": null,
      "outputs": []
    }
  ]
}